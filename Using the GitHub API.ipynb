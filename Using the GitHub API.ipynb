{
 "cells": [
  {
   "cell_type": "code",
   "execution_count": 1,
   "id": "5104eb44",
   "metadata": {
    "scrolled": false
   },
   "outputs": [
    {
     "name": "stdout",
     "output_type": "stream",
     "text": [
      "{'login': 'szetszwo', 'id': 907380, 'node_id': 'MDQ6VXNlcjkwNzM4MA==', 'avatar_url': 'https://avatars.githubusercontent.com/u/907380?v=4', 'gravatar_id': '', 'url': 'https://api.github.com/users/szetszwo', 'html_url': 'https://github.com/szetszwo', 'followers_url': 'https://api.github.com/users/szetszwo/followers', 'following_url': 'https://api.github.com/users/szetszwo/following{/other_user}', 'gists_url': 'https://api.github.com/users/szetszwo/gists{/gist_id}', 'starred_url': 'https://api.github.com/users/szetszwo/starred{/owner}{/repo}', 'subscriptions_url': 'https://api.github.com/users/szetszwo/subscriptions', 'organizations_url': 'https://api.github.com/users/szetszwo/orgs', 'repos_url': 'https://api.github.com/users/szetszwo/repos', 'events_url': 'https://api.github.com/users/szetszwo/events{/privacy}', 'received_events_url': 'https://api.github.com/users/szetszwo/received_events', 'type': 'User', 'site_admin': False, 'contributions': 911}\n"
     ]
    }
   ],
   "source": [
    "import json\n",
    "import requests\n",
    "import regex as re\n",
    "import time\n",
    "import datetime\n",
    "from bs4 import BeautifulSoup\n",
    "\n",
    "######### Part 1 #########\n",
    "\n",
    "#Getting details of Top 100 Hadoop github repo contributors.\n",
    "\n",
    "url_hadoop = \"https://api.github.com/repos/apache/hadoop/contributors\"\n",
    "\n",
    "#To get 100 results in the page\n",
    "parameters = {\"per_page\":\"100\"} #Defaults to first page\n",
    "\n",
    "token = \"\"#Add token here\n",
    "\n",
    "headers = {'Authorization': 'token ' + token}\n",
    "\n",
    "#Calling the URL\n",
    "hadoop = requests.get(url = url_hadoop, params = parameters, headers = headers).text\n",
    "\n",
    "#Loading the json into a variable\n",
    "hadoop_contributors = json.loads(hadoop)\n",
    "\n",
    "#Printing only the first contributor details\n",
    "print(hadoop_contributors[0])\n"
   ]
  },
  {
   "cell_type": "code",
   "execution_count": 2,
   "id": "f1891d60",
   "metadata": {},
   "outputs": [
    {
     "name": "stdout",
     "output_type": "stream",
     "text": [
      "User 1: szetszwo  ( https://github.com/szetszwo ) has 5 repositories and 3744 contributions.\n",
      "User 2: aajisaka  ( https://github.com/aajisaka ) has 29 repositories and 2113 contributions.\n",
      "User 3: vinoduec  ( https://github.com/vinoduec ) has 1 repositories and 3 contributions.\n",
      "User 4: arp7  ( https://github.com/arp7 ) has 12 repositories and 3127 contributions.\n",
      "User 5: cnauroth  ( https://github.com/cnauroth ) has 36 repositories and 1206 contributions.\n",
      "User 6: jlowe  ( https://github.com/jlowe ) has 8 repositories and 4185 contributions.\n",
      "User 7: umbrant  ( https://github.com/umbrant ) has 33 repositories and 618 contributions.\n",
      "User 8: toddlipcon  ( https://github.com/toddlipcon ) has 103 repositories and 6698 contributions.\n",
      "User 9: steveloughran  ( https://github.com/steveloughran ) has 49 repositories and 7731 contributions.\n",
      "User 10: anuengineer  ( https://github.com/anuengineer ) has 18 repositories and 2622 contributions.\n"
     ]
    }
   ],
   "source": [
    "######### Part 2 #########\n",
    "\n",
    "#Getting the number of repos and contributions for each username\n",
    "\n",
    "for i in range(10):\n",
    "    \n",
    "    user = hadoop_contributors[i]['login']\n",
    "    user_url = hadoop_contributors[i]['url']\n",
    "    user_html_url = hadoop_contributors[i]['html_url']\n",
    "    \n",
    "    #Accessing the API inside the URL and obtaining the user's repo count\n",
    "    user_api = requests.get(url = user_url, headers = headers).text\n",
    "    user_json = json.loads(user_api)\n",
    "    \n",
    "    #Extracting the user's repo count\n",
    "    user_repo_count = user_json['public_repos']\n",
    "    \n",
    "    #We will need to extract the contributions for each user by parsing it from their HTML pages\n",
    "    \n",
    "    #First extracting the year when the user created their GitHub profile\n",
    "    user_year_created = int(user_json['created_at'][0:4])\n",
    "    \n",
    "    #Creating an empty list to store contributions of each year\n",
    "    yearly_contibutions = list(range(2023-user_year_created))\n",
    "    contri_count = 0\n",
    "    \n",
    "    #Getting contributions of the user year-wise - then summing it up\n",
    "    \n",
    "    for year in range(user_year_created, 2023):\n",
    "        \n",
    "        #Getting URL for each year. The output of this URL will be parsed to get the contribution count\n",
    "        year_user_url = f\"https://github.com/{user}?tab=overview&from={year}-01-01&to={year}-12-31\"\n",
    "        \n",
    "        #Storing the html into a variable\n",
    "        year_user_url_content = requests.get(url = year_user_url, headers = headers)\n",
    "        \n",
    "        #Parsing into a BeautifulSoup object\n",
    "        year_user_bs = BeautifulSoup(year_user_url_content.text, 'lxml')\n",
    "        \n",
    "        contri_text = year_user_bs.find(\"h2\", class_= \"f4 text-normal mb-2\")\n",
    "        contri_text = re.split(\"      \",contri_text.text.replace(\",\",\"\"))[1] #As the data had spaces before the number\n",
    "        contri_count = contri_count + int(contri_text)\n",
    "    \n",
    "    \n",
    "    print(f\"User {i+1}: {user}  ( {user_html_url} ) has {user_repo_count} repositories and {contri_count} contributions.\")\n",
    "    \n",
    "    \n",
    "    time.sleep(5)\n",
    "\n"
   ]
  },
  {
   "cell_type": "code",
   "execution_count": 5,
   "id": "125c53bb",
   "metadata": {},
   "outputs": [
    {
     "name": "stdout",
     "output_type": "stream",
     "text": [
      "The latest commit was on 2022-02-21 17:08:56\n",
      "The commit which was 100 commits before this was on 2021-12-23 09:13:18\n",
      "The difference in these two timestamps is 60 days, 7:55:38\n"
     ]
    }
   ],
   "source": [
    "######### Part 3 #########\n",
    "\n",
    "#Printing the difference between the timestamp of last commit and (last-100)th commit on the repo.\n",
    "\n",
    "url_commits_api = \"https://api.github.com/repos/apache/hadoop/commits\"\n",
    "parameters_page2 = {\"per_page\":\"100\",\"page\":\"2\"} #To get 100 results in the page\n",
    "\n",
    "#Getting two pages\n",
    "commits_hadoop_page1 = requests.get(url = url_commits_api, params = parameters, headers = headers).text\n",
    "commits_hadoop_page2 = requests.get(url = url_commits_api, params = parameters_page2, headers = headers).text\n",
    "\n",
    "#Converting to JSON\n",
    "commits_hadoop_json_page1 = json.loads(commits_hadoop_page1)\n",
    "commits_hadoop_json_page2 = json.loads(commits_hadoop_page2)\n",
    "\n",
    "\n",
    "#Converting the strings to timestamps\n",
    "latest_commit_timestamp = commits_hadoop_json_page1[0]['commit']['committer']['date']\n",
    "latest_commit_timestamp = datetime.datetime.strptime(latest_commit_timestamp, \"%Y-%m-%dT%H:%M:%SZ\")\n",
    "\n",
    "hundredth_commit_time_stamp = commits_hadoop_json_page2[0]['commit']['committer']['date']\n",
    "hundredth_commit_time_stamp = datetime.datetime.strptime(hundredth_commit_time_stamp, \"%Y-%m-%dT%H:%M:%SZ\")\n",
    "\n",
    "print(f'The latest commit was on {latest_commit_timestamp}')\n",
    "print(f'The commit which was 100 commits before this was on {hundredth_commit_time_stamp}')\n",
    "\n",
    "#Printing the time difference\n",
    "print(f'The difference in these two timestamps is {latest_commit_timestamp-hundredth_commit_time_stamp}')\n",
    "\n"
   ]
  }
 ],
 "metadata": {
  "kernelspec": {
   "display_name": "Python 3",
   "language": "python",
   "name": "python3"
  },
  "language_info": {
   "codemirror_mode": {
    "name": "ipython",
    "version": 3
   },
   "file_extension": ".py",
   "mimetype": "text/x-python",
   "name": "python",
   "nbconvert_exporter": "python",
   "pygments_lexer": "ipython3",
   "version": "3.8.8"
  }
 },
 "nbformat": 4,
 "nbformat_minor": 5
}
